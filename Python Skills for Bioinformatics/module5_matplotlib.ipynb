{
 "cells": [
  {
   "cell_type": "markdown",
   "metadata": {},
   "source": [
    "# Module 5 - Plotting in python using `matplotlib`\n",
    "-----------------------------------------------------------------------"
   ]
  },
  {
   "cell_type": "markdown",
   "metadata": {},
   "source": [
    "## Introduction <a id='0'></a>\n",
    "\n",
    "The [matplotlib](https://matplotlib.org) library is the standard when it comes to creating plots in python.\n",
    "It is reasonnably easy to use, accomodates a wide variety of visualisation (including interactive plots), and offers plenty of possibilities to personnalize your plots. It is also the foundation upon which the popular higher-level [seaborn](https://seaborn.pydata.org) library is built.\n",
    "\n",
    "Most of matplotlib's functionality can be accessed through its `pyplot` module, a collection of functions that were originally developed to make matplotlib resemble MATLAB.\n",
    "\n",
    "Since having to always type `matplotlib.pyplot` each time a function is accessed does quickly become tieresome, `matplotlib.pyplot` is tradinonally imported as **`plt`**:"
   ]
  },
  {
   "cell_type": "code",
   "execution_count": null,
   "metadata": {},
   "outputs": [],
   "source": [
    "import matplotlib.pyplot as plt"
   ]
  },
  {
   "cell_type": "markdown",
   "metadata": {},
   "source": [
    "> **Note:** if this line fails, it's probably because `matplotlib` is not installed on your system.  \n",
    "> We recommend you install `matplotlib` as part of \n",
    "  [`scipy`](https://www.scipy.org/install.html) using anaconda or pip.\n"
   ]
  },
  {
   "cell_type": "markdown",
   "metadata": {},
   "source": [
    "## Why is data visualization necessary?\n",
    "\n",
    "So far, we have focused a lot on summarizing the data using statistics. However, summary statistics are not enough to understand the distribution &ndash; there are many possible distributions for a given set of summary statistics. Data visualization is necessary to truly understand the distribution:\n",
    "\n",
    "<div style=\"text-align: center; margin: 20px 0;\">\n",
    "  <img width=\"50%\" src=\"https://raw.githubusercontent.com/stefmolin/data-morph/main/docs/_static/panda-to-star-eased.gif\" \n",
    "       alt=\"Data Morph: panda to star\" style=\"min-width: 300px; margin-top: 20px;\"/>\n",
    "  <div style=\"margin-top: 10px;\">\n",
    "    <small><em>(source: <a href=\"https://stefaniemolin.com/data-morph/stable/index.html\">Data Morph</a>)</em></small>\n",
    "  </div>\n",
    "</div>\n"
   ]
  },
  {
   "cell_type": "markdown",
   "metadata": {},
   "source": [
    "## Your first plot   <a id='2'></a>\n",
    "\n",
    "Adding data to a figure is done with the **`plt.plot()`** function.\n",
    "\n",
    "`plt.plot()` accepts 1 or 2 sequences (e.g. tuples or lists) with the same length.\n",
    "\n",
    "* When passing only **one sequence** to `plt.plot()`, its value are used as **Y axis** values.\n",
    "  The **X axis** values default to the position of each value in the sequence (starting with index 0).\n",
    "  In the example below, you can e.g. see that the x-coordinate of the value 8 is 3, because 3 is the\n",
    "  index of value 8 in our list (it's the 4th value in the list)."
   ]
  },
  {
   "cell_type": "code",
   "execution_count": null,
   "metadata": {},
   "outputs": [],
   "source": [
    "import matplotlib.pyplot as plt\n",
    "\n",
    "# Passing a single sequence to plt.plot().\n",
    "x = [1,2,3,8]\n",
    "plt.plot(x)\n",
    "#plt.plot(x, \"x\")\n",
    "plt.show()"
   ]
  },
  {
   "cell_type": "markdown",
   "metadata": {},
   "source": [
    "* When passing **two sequences** to `plt.plot()`, the **first sequence** is taken as **X axis** values and the **second sequence** as **Y axis** values."
   ]
  },
  {
   "cell_type": "code",
   "execution_count": null,
   "metadata": {},
   "outputs": [],
   "source": [
    "x = [1,2,3,5]\n",
    "y = [1,5,3,8]\n",
    "\n",
    "# Passing 2 arguments to plt.plot().\n",
    "plt.plot(x, y)\n",
    "#plt.plot(x, y, \"x\")\n",
    "plt.show()"
   ]
  },
  {
   "cell_type": "markdown",
   "metadata": {},
   "source": [
    "<br>\n",
    "\n",
    "As you can see from the examples above, one particularity of `matplotlib.pyplot` functions is that they **preserve the state of a plot between functions calls**.\n",
    "\n",
    "For instance, when calling `plt.show()`, there is no need to pass it any argument - it automatically shows the last plot we have created with `plt.plot()`.\n",
    "\n",
    "The general workflow when creating plots with pyplot is therefore to:\n",
    "1. **Create a new plot or figure**, e.g. with `plt.plot()`.\n",
    "2. **Add elements** to the plot using various pyplot functions (e.g. add a title, axes names, legends, ...).\n",
    "3. **Render** the plot with `plt.show()`.\n",
    "\n",
    "Note: once a plot is rendered, its underlying plot object is deleted and it cannot be rendered again without building it again.  \n",
    "In the cell below, we are calling the `plt.show()` method again, but nothing is being plotted:"
   ]
  },
  {
   "cell_type": "markdown",
   "metadata": {},
   "source": [
    "### Add a title, name the axes <a id='3'></a>\n",
    "To add a title to our plot:\n",
    "* `plt.title()`\n",
    "\n",
    "To label the axes we use the following functions:\n",
    "* `plt.xlabel()` for the X axis\n",
    "* `plt.ylabel()` for the Y axis"
   ]
  },
  {
   "cell_type": "code",
   "execution_count": null,
   "metadata": {},
   "outputs": [],
   "source": [
    "plt.title(\"my very first plot, now with a title\")\n",
    "plt.xlabel(\"X values\")\n",
    "plt.ylabel(\"Y values\")\n",
    "\n",
    "# Render the plot.\n",
    "plt.show()"
   ]
  },
  {
   "cell_type": "markdown",
   "metadata": {},
   "source": [
    "### Adding a legend <a id='4'></a>\n",
    "\n",
    "Adding a legend to your plot is often a necessity.  \n",
    "Luckily, matplotlib makes it easy, thanks to the **`plt.legend()`** function.\n",
    "\n",
    "Here is an example to illustrate its usage:\n",
    "* Let's generate 100 numbers equally spaced between 0 and 10 (we use `numpy` to do that easily).\n",
    "  Then let's apply the `sin()` and `cos()` functions to these numbers and plot the result."
   ]
  },
  {
   "cell_type": "code",
   "execution_count": null,
   "metadata": {},
   "outputs": [],
   "source": [
    "import numpy as np\n",
    "\n",
    "x = np.linspace(0, 10, 100)\n",
    "plt.plot(x, np.sin(x))\n",
    "plt.plot(x, np.cos(x))\n",
    "plt.show()"
   ]
  },
  {
   "cell_type": "markdown",
   "metadata": {},
   "source": [
    "<br> \n",
    "\n",
    "To indicate which curve is the sine and which is the cosine, let's add a legend to our plot with `plt.legend()`.\n",
    "\n",
    "By default, the legend is placed at what matplotlib deems the \"best\" location, i.e. the location with the least overlap with other features.\n",
    "\n",
    "**Important:** to be able to display a legend, pyplot **needs a label for each plotted element**:\n",
    "  * This is specified by passing the `label=...` argument to `plt.plot()`."
   ]
  },
  {
   "cell_type": "code",
   "execution_count": null,
   "metadata": {},
   "outputs": [],
   "source": [
    "plt.plot(x, np.sin(x), label=\"sin\")\n",
    "plt.plot(x, np.cos(x), label=\"cos\")\n",
    "plt.legend()\n",
    "plt.show()"
   ]
  },
  {
   "cell_type": "markdown",
   "metadata": {},
   "source": [
    "<br>\n",
    "\n",
    "**More control** over the position of the legend can be achieved through the **`loc`** argument:\n",
    "  * `plt.legend(loc='upper right')`\n",
    "  * `plt.legend(loc='upper center')`\n",
    "  * `plt.legend(loc='best')` - this is the default.\n",
    "  * [see here for all options](https://matplotlib.org/3.1.1/api/_as_gen/matplotlib.pyplot.legend.html)"
   ]
  },
  {
   "cell_type": "code",
   "execution_count": null,
   "metadata": {
    "scrolled": false
   },
   "outputs": [],
   "source": [
    "plt.plot(x, np.sin(x), label='sin')\n",
    "plt.plot(x, np.cos(x), label='cos')\n",
    "plt.legend(loc='upper right')\n",
    "#plt.legend(loc='upper center')\n",
    "#plt.legend(loc='lower right')\n",
    "plt.show()"
   ]
  },
  {
   "cell_type": "markdown",
   "metadata": {},
   "source": [
    "### Saving your plot as a file <a id='5'></a>\n",
    "\n",
    "Now that you created a plot, you might also want to save it permanently as an image file.\n",
    "\n",
    "This is what **`plt.savefig()`** is designed to do. The only mandatory argument is the file path/name where to save the plot:\n",
    "* `plt.savefig(fname)`\n",
    "\n",
    "Note that the extension given to the file name is used by matplotlib to determine the format of the file:\n",
    "* `plt.savefig(\"my_figure.png\")` will create a PNG file - this is the default.\n",
    "* `plt.savefig(\"my_figure.jpg\")` will create a JPEG file.\n",
    "* `plt.savefig(\"my_figure.pdf\")` will create a PDF file.\n",
    "\n",
    "Other optional arguments that relate to image quality or size can also be passed to `plt.savefig()`, for instance:\n",
    "* `dpi`: dot-per-inch value to use for the output image file.\n",
    "* `quality`: only applies to JPEG files - the image quality, ranging from 1 (low quality, smaller size) to 95 (highest quality, largest size).\n",
    "* `transparent`: if True, the image background is set to transparent. \n",
    "\n",
    "For a more comprehensive documentation of the `plt.savefig()` function, [see this link](https://matplotlib.org/3.1.1/api/_as_gen/matplotlib.pyplot.savefig.html).\n"
   ]
  },
  {
   "cell_type": "code",
   "execution_count": null,
   "metadata": {
    "scrolled": true
   },
   "outputs": [],
   "source": [
    "plt.savefig('sin_cos_plot.png', dpi=300)   # saves the plot as a png file.\n",
    "plt.savefig('sin_cos_plot.jpg', dpi=150)   # saves the plot as a jpeg file.\n",
    "plt.savefig('sin_cos_plot.pdf', dpi=150)   # saves the plot as a PDF file."
   ]
  },
  {
   "cell_type": "markdown",
   "metadata": {},
   "source": [
    "##  Plot styling <a id='8'></a>\n",
    "Changing the style of a plot (e.g. color, use a line or dots, shape of line or dots) can be achieved using two different methods:\n",
    "* passing specific **keyword arguments** to `plt.plot()` - i.e. passing arguments while specifying their names.\n",
    "* using so called **format strings**. These are essentially shortcuts to the keyword arguments.\n",
    "\n",
    "### Changing plot style via keyword arguments <a id='9'></a>\n",
    "Here is a list of useful keyword arguments that can be passed to `plt.plot()`:\n",
    "* `color`: the color of the line or dots. This arguments accepts different types of inputs:\n",
    "    * strings giving the name of the color: e.g. `\"green\"`, `\"blue\", \"red\", \"orange\", \"yellow\", \"black\"`.\n",
    "    * hex strings: e.g. `\"#008000\"`.\n",
    "    * RGB tuples: e.g. `(150, 150, 150)`.  \n",
    "    \n",
    "\n",
    "* `marker`: the type of symbol uses to draw data points, for instance:\n",
    "    * `\"o\"`: circles.\n",
    "    * `\"s\"`: square.\n",
    "    * `\"^\"`: triangle.\n",
    "    * `\"+\"`: as a \"+\" shape.\n",
    "    * `\"None\"`: do not draw data points (the keyword can also simply be omitted). Note that this value is\n",
    "      the string `\"None\"`, not the python `None` object.\n",
    "    * [see here for a complete list of matplotlib markers](https://matplotlib.org/stable/api/markers_api.html)\n",
    "\n",
    "\n",
    "* `linestyle`: the type of the line to draw, e.g. `\"solid\"`, `\"dashed\"`, `\"dotted\"`, `\"dashdot\"`.\n",
    "* `linewidth`: float value giving the width (thickness) of the line in points. The default is `1.0`.\n",
    "* `markersize`: float value giving the size of markers (i.e. symbols used to draw points).\n",
    "* `markerfacecolor` and `markeredgecolor`: color of respectively the inside and edge of markers.\n",
    "\n",
    "A complete list of keyword arguments can be found [here](https://matplotlib.org/stable/api/_as_gen/matplotlib.pyplot.plot.html)"
   ]
  },
  {
   "cell_type": "code",
   "execution_count": null,
   "metadata": {},
   "outputs": [],
   "source": [
    "x = [1,2,3,5]\n",
    "y = [1,2,3,8]\n",
    "\n",
    "# Create plot with different line and marker styles.\n",
    "plt.plot(x, y)\n",
    "plt.plot(x, [y * 2 for y in y], color='orange', marker='^', linestyle='dashed')\n",
    "plt.plot(x, [y * 10 for y in y], color='None', marker='+', markersize=8, markeredgecolor=\"grey\")\n",
    "\n",
    "# Render the plot.\n",
    "plt.show()"
   ]
  },
  {
   "cell_type": "markdown",
   "metadata": {},
   "source": [
    "## Matplotlib Figures <a id='12'></a>\n",
    "So far we have seen how to draw a single plot. But matplotlib can do much more than that, allowing you e.g. to have multiple subplots. This requires to introduce the concept of **figure**, which can be seen as the \"drawing board\" on which you then add individual plots.\n",
    "\n",
    "### Modifying a plot's size <a id='13'></a>\n",
    "A first use of the matplotlib figure is to modify a plot's size and aspect ratio. This can be done using the `plt.figure()` function:\n",
    "* `plt.figure(figsize=(width, height))`, where width and height define the size of the plot in inches.\n"
   ]
  },
  {
   "cell_type": "code",
   "execution_count": null,
   "metadata": {},
   "outputs": [],
   "source": [
    "# Here we ask for our plot to be 10 inches wide and 2 inches high.\n",
    "plt.figure(figsize=(10, 2))\n",
    "plt.plot(x, y, color='green', marker='o', linestyle='dashdot')\n",
    "plt.show()"
   ]
  },
  {
   "cell_type": "markdown",
   "metadata": {},
   "source": [
    "## Drawing multiple plots per figure <a id='14'></a>\n",
    "Having more than one plot per figure is possible using pyplot's `plt.subplot()` or `plt.subplots()` functions.\n",
    "Chosing between these two functions comes down to whether we want to use the **procedural** or an **object-oriented** approach:\n",
    "* In the **procedural** approach, we make repeated calls to `plt.subplot()` to each time focus on a different subplot of the figure.\n",
    "* In the **object-oriented** approach, we use `plt.subplots()` to create a **figure** and an **axes** objet. The individual subplots can then be drawn on each **axis** of the axes object.\n",
    "\n",
    "In both cases, the underlying idea is that sub-plots are organized on a grid defined by a **number of rows** and **number of columns**."
   ]
  },
  {
   "cell_type": "markdown",
   "metadata": {},
   "source": [
    "### Procedural approach <a id='15'></a>\n",
    "This approach uses repetitive calls to the `plt.subplot()` function, passing it 3 arguments each time (**in this order**): \n",
    "* number of rows (in the \"figure grid\").\n",
    "* number of columns (in the \"figure grid\").\n",
    "* number of the sub-plot to currently draw on.\n",
    "\n",
    "Example: `plt.subplot(2, 3, 1)` will:\n",
    "* Create a figure with 6 subplots distributed over 2 rows and 3 columns.\n",
    "* Set the focus on the first subplot (i.e. any command passed at this point will draw on subplot 1).\n",
    "\n",
    "Subplots are numbered starting with 1 for the top-left subplot, increase increasing as we move to the right of the first row, then continuing on the second row, etc.\n",
    "\n",
    "The general code structure then looks something like this:\n",
    "```python\n",
    "    plt.figure()\n",
    "    plt.subplot(2, 3, 1) # create a 2 rows x 3 cols matrix of subplots, draw on the first subplot.\n",
    "    ... # pyplot instructions for the first subplot.\n",
    "    ...\n",
    "    plt.subplot(2, 3, 2) # move to the second subplot.\n",
    "    ... # pyplot instructions for the second subplot.\n",
    "    ...\n",
    "    plt.subplot(2, 3, 3) # move to the third subplot.\n",
    "    etc...\n",
    "```\n",
    "\n",
    "Here is an actual example where we draw a figure with 2 subplots:"
   ]
  },
  {
   "cell_type": "code",
   "execution_count": null,
   "metadata": {},
   "outputs": [],
   "source": [
    "x = np.linspace(0, 10, 100)\n",
    "\n",
    "# Create figure.\n",
    "plt.figure(figsize=(12, 4))\n",
    "\n",
    "# Create subplots - focus on subplot 1.\n",
    "plt.subplot(1, 2, 1)\n",
    "plt.plot(x, np.sin(x), label='sin', color='cornflowerblue')\n",
    "plt.xlabel('X')\n",
    "plt.ylabel('Y')\n",
    "plt.title('sin function')\n",
    "plt.legend(loc='best')\n",
    "\n",
    "# Focus on subplot 2.\n",
    "plt.subplot(1, 2, 2)\n",
    "plt.plot(x, np.cos(x), label='cos', color='orange')\n",
    "plt.xlabel('X')\n",
    "plt.ylabel('Y')\n",
    "plt.title('cos function')\n",
    "plt.legend(loc='best')\n",
    "\n",
    "plt.show()"
   ]
  },
  {
   "cell_type": "markdown",
   "metadata": {},
   "source": [
    "## Scatter plots <a id='19'></a>\n",
    "\n",
    "**Scatter plots** allow to represent data points in a coordinate system (typically 2D). \n",
    "* Good to visualize two numeric variables.\n",
    "* Drawn with **`plt.scatter(x, y, s=None, c=None)`**.\n",
    "    * `x, y` mandatory arguments, the **x and y coordinates** of the data points.\n",
    "    * `s` optional, the **marker size** used for each data point, allows to represent different points\n",
    "      with different sizes.\n",
    "    * `c` optional, the **marker color** used for each data point.\n",
    "    * `marker` optional, the **type of marker** to use to represent data points (same as what we have seen in\n",
    "      the plot styling section).\n",
    "* For a full documentation, see [here](https://matplotlib.org/stable/api/_as_gen/matplotlib.pyplot.scatter.html)"
   ]
  },
  {
   "cell_type": "code",
   "execution_count": null,
   "metadata": {},
   "outputs": [],
   "source": [
    "import random\n",
    "\n",
    "# Generate some random data for X and Y coordinates.\n",
    "length = np.random.uniform(low=0, high=10, size=(50,))\n",
    "width = np.random.uniform(low=8, high=10, size=(50,))\n",
    "\n",
    "# Plot the data. Since we do not give any values for the \"s\", \"c\" and \"marker\" arguments\n",
    "# of plt.scatter, the default values are used.\n",
    "plt.scatter(length, width)\n",
    "plt.title(\"length vs. width\")\n",
    "plt.xlabel('length')\n",
    "plt.ylabel('width')\n",
    "plt.show()"
   ]
  },
  {
   "cell_type": "markdown",
   "metadata": {},
   "source": [
    "## Histograms <a id='24'></a>\n",
    "\n",
    "To graphicaly summarize the distribution of your data, you can plot it as a histogram using the **`plt.hist()`** function.  \n",
    "You can find more documentation about plotting histograms [here](https://matplotlib.org/3.2.1/gallery/statistics/hist.html)."
   ]
  },
  {
   "cell_type": "code",
   "execution_count": null,
   "metadata": {},
   "outputs": [],
   "source": [
    "import random\n",
    "\n",
    "mu = 4 # mean\n",
    "sigma = 1 #standard deviation\n",
    "\n",
    "x = np.random.normal(mu, sigma, 1000)\n",
    "\n",
    "plt.hist(x)\n",
    "plt.xlim((min(x), max(x))) # you can also specify the limits of the plot axes\n",
    "plt.show()"
   ]
  },
  {
   "cell_type": "markdown",
   "metadata": {},
   "source": [
    "## Boxplots <a id='25'></a>\n",
    "\n",
    "It is possible to make boxplots to visualize your data using the function `plt.boxplot()` and the argument passed should be a list."
   ]
  },
  {
   "cell_type": "code",
   "execution_count": null,
   "metadata": {},
   "outputs": [],
   "source": [
    "import random\n",
    "\n",
    "mu = 4 # mean\n",
    "sigma = 1 #standard deviation\n",
    "x = np.random.normal(mu, sigma, 1000)\n",
    "\n",
    "plt.boxplot(x)\n",
    "plt.show()"
   ]
  },
  {
   "cell_type": "markdown",
   "metadata": {},
   "source": [
    "You can also visualize multiple boxplots inside the same plot."
   ]
  },
  {
   "cell_type": "code",
   "execution_count": null,
   "metadata": {},
   "outputs": [],
   "source": [
    "import numpy as np\n",
    "\n",
    "mu = 4 # mean\n",
    "sigma = 1 #standard deviation\n",
    "x = np.random.normal(mu, sigma, 1000)\n",
    "\n",
    "y = x + 2*np.random.randn(len(x))\n",
    "\n",
    "# you need to pass a list of list\n",
    "plt.boxplot([x,y])\n",
    "\n",
    "plt.xticks([1, 2], ['x', 'y']) # set the current tick locations and labels of the x-axis\n",
    "\n",
    "plt.show()"
   ]
  },
  {
   "cell_type": "markdown",
   "metadata": {},
   "source": [
    "## Bar plots <a id='26'></a>"
   ]
  },
  {
   "cell_type": "code",
   "execution_count": null,
   "metadata": {},
   "outputs": [],
   "source": [
    "mu = 4      # mean\n",
    "sigma = 1   #standard deviation\n",
    "x = np.random.normal(mu, sigma, 1000)\n",
    "\n",
    "y = np.random.normal(6, 3, 1000)\n",
    "\n",
    "mean_variables = [np.std(x), np.std(y)]\n",
    "variable_name = ['x', 'y']\n",
    "\n",
    "plt.bar(variable_name, mean_variables, color='cornflowerblue')\n",
    "\n",
    "plt.ylabel('Standard deviation')\n",
    "plt.show()"
   ]
  },
  {
   "cell_type": "markdown",
   "metadata": {},
   "source": [
    "## Heatmap plots <a id='27'></a>\n",
    "\n",
    "Heatmap plots allows you to visualize with colors the different values contained in a matrix.  \n",
    "You can find more documentation and example [here](https://matplotlib.org/3.1.1/gallery/images_contours_and_fields/image_annotated_heatmap.html) and [here too](https://python-graph-gallery.com/heatmap/) about heatmap plots."
   ]
  },
  {
   "cell_type": "code",
   "execution_count": null,
   "metadata": {},
   "outputs": [],
   "source": [
    "# Import necessary libraries\n",
    "import seaborn as sns\n",
    "import matplotlib.pyplot as plt\n",
    "\n",
    "# Basic example data: Gene expression levels (genes as rows, samples as columns)\n",
    "data = [\n",
    "    [1.2, 2.3, 3.1],  # Gene_A expression across 3 samples\n",
    "    [3.4, 1.8, 2.5],  # Gene_B expression across 3 samples\n",
    "    [2.5, 3.7, 1.9]   # Gene_C expression across 3 samples\n",
    "]\n",
    "\n",
    "# Gene and sample labels\n",
    "genes = [\"Gene_A\", \"Gene_B\", \"Gene_C\"]\n",
    "samples = [\"Sample_1\", \"Sample_2\", \"Sample_3\"]\n",
    "\n",
    "# Create the heatmap\n",
    "sns.heatmap(data, xticklabels=samples, yticklabels=genes, cmap=\"Blues\", annot=True)\n",
    "\n",
    "# Add a title\n",
    "plt.title(\"Gene Expression Heatmap\")\n",
    "\n",
    "# Show the plot\n",
    "plt.show()\n"
   ]
  },
  {
   "cell_type": "markdown",
   "metadata": {},
   "source": [
    "## Colormaps <a id='28'></a>\n",
    "\n",
    "Colormaps are \"color palettes\" (ranges of colors) that can be useful to draw good representation of the plotted data.\n",
    "There are different types:\n",
    "* **Sequential:** 'Purples', 'Blues', 'Greens', ...\n",
    "* **Diverging:** 'RdYlGn', 'Spectral', 'coolwarm', ... \n",
    "* **Cyclic:** 'twilight', 'twilight_shifted', 'hsv'\n",
    "* **Qualitative:** 'Pastel1', 'Pastel2', 'Paired', ...\n",
    "\n",
    "You can find a more extensive documentation [here](https://matplotlib.org/2.0.1/users/colormaps.html)."
   ]
  }
 ],
 "metadata": {
  "kernelspec": {
   "display_name": "Python 3 (ipykernel)",
   "language": "python",
   "name": "python3"
  },
  "language_info": {
   "codemirror_mode": {
    "name": "ipython",
    "version": 3
   },
   "file_extension": ".py",
   "mimetype": "text/x-python",
   "name": "python",
   "nbconvert_exporter": "python",
   "pygments_lexer": "ipython3",
   "version": "3.11.4"
  }
 },
 "nbformat": 4,
 "nbformat_minor": 2
}

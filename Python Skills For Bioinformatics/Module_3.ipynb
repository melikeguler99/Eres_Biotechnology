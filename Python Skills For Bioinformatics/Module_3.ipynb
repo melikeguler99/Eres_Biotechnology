{
 "cells": [
  {
   "cell_type": "markdown",
   "metadata": {},
   "source": [
    "# Module 3 - Conditional Statements and Loops\n",
    "--------------------------------------------"
   ]
  },
  {
   "cell_type": "markdown",
   "metadata": {},
   "source": [
    "\n",
    "<br>\n",
    "\n",
    "## Introduction <a id='0'></a>\n",
    "-------------------\n",
    "\n",
    "In the previous lesson we learned about **basic object types**: `bool`,`int`,`float`,`str`,`tuple`,`list` and `dict`.\n",
    "\n",
    "In this lesson we look at 3 different concepts that allow to **structure python code** and **control the code flow**, i.e. which code is executed and when:\n",
    "\n",
    "* **Conditional statement**: `if`, `else` and `elif`\n",
    "* **Loops**: `for` and `while`\n",
    "* **Functions**\n",
    "\n",
    "*Note:* these constructs are conceptually similar to what is found in many other programming languages. Therefore, depending on your experience with other languages, you will be able to assimilate this content more or less quickly.\n",
    "\n",
    "<br>\n",
    "<br>\n",
    "\n",
    "## Code blocks <a id='10'></a>\n",
    "-------------------\n",
    "\n",
    "The Python code structures mentioned above all rely on the concept of **code block** to delimit their start and end location.  \n",
    "In Python, a code block:\n",
    "* Starts after a line that **ends with the colon operator `:`**.\n",
    "* Is delimited by a **fixed number of spaces at the start of each line** (indentation). This replaces\n",
    "  curly braces `{}` or parentheses `()` found in other languages such as R or C.\n",
    "* Can contain other nested code blocks (these must then also start with a `:` and be further indented).\n",
    "\n",
    "The standard indentation level for code blocks is **4 spaces**, and we **highly recommend** you follow this guideline.\n",
    "\n",
    "<br>\n",
    "\n",
    "**Example:** code block with an indentation of 4 spaces."
   ]
  },
  {
   "cell_type": "code",
   "execution_count": null,
   "metadata": {},
   "outputs": [],
   "source": [
    "x = 10\n",
    "y= 3\n",
    "\n",
    "if x>y:\n",
    "    print(x,\"is greater than\",y)\n",
    "    \n",
    "# When the indentation stops, the code block is over.\n",
    "    \n",
    "print(y,\" is greater than\", x)"
   ]
  },
  {
   "cell_type": "markdown",
   "metadata": {},
   "source": [
    "<br>\n",
    "\n",
    "**Example:** nested code blocks - each additional nesting level must be further indented by 4 spaces."
   ]
  },
  {
   "cell_type": "code",
   "execution_count": null,
   "metadata": {},
   "outputs": [],
   "source": [
    "if x>3:\n",
    "    print(\"x is>3\")\n",
    "    \n",
    "    if y>=3:\n",
    "        print(\"x and y are>3\")"
   ]
  },
  {
   "cell_type": "markdown",
   "metadata": {},
   "source": [
    "<br>\n",
    "<br>\n",
    "\n",
    "[Back to ToC](#toc)\n",
    "\n",
    "## Conditional statements: `if` , `elif`, `else` <a id='20'></a>\n",
    "---------------------------------------------------------------\n",
    "\n",
    "### `if` and `if... else...`\n",
    "\n",
    "The **`if`** keyword followed by an **expression that can evaluate to `True` or `False`** (`condition` in the code below), defines a block that will be executed if the expression evaluates to `True`.\n",
    "\n",
    "  ```python\n",
    "    if condition:\n",
    "        # This code block is executed if the condition evaluates to `True`.\n",
    "        # If the condition is `False`, the code block is skipped.\n",
    "        ...\n",
    "  ```\n",
    "    \n",
    "The **`else`** keyword defines a block to be executed if the previous `if` expression evaluated to `False`.\n",
    "  \n",
    "  ```python\n",
    "    if condition:\n",
    "        # This code block is executed if the condition evaluates to `True`.\n",
    "        ...\n",
    "    else:\n",
    "        # This code block is executed if the condition evaluates to `False`.\n",
    "        ...\n",
    "  ```\n",
    "\n",
    "* **Important:** don't forget the **`:`** at the end of the `if` and `else` lines (start of a code block).\n",
    "\n",
    "<br>\n",
    "\n",
    "The following graphics illustrate the code flow in an `if... else...` code block:\n"
   ]
  },
  {
   "cell_type": "markdown",
   "metadata": {},
   "source": [
    "<br>\n",
    "\n",
    "**Example:** **`if... else...`** statement."
   ]
  },
  {
   "cell_type": "code",
   "execution_count": null,
   "metadata": {},
   "outputs": [],
   "source": [
    "age = 25\n",
    "\n",
    "if age< 18:\n",
    "    print(\"this is a child\")\n",
    "else:\n",
    "    print(\"This is an adult\")\n"
   ]
  },
  {
   "cell_type": "markdown",
   "metadata": {},
   "source": [
    "<br>\n",
    "\n",
    "### Adding additional condition checks: `if... elif... else...`\n",
    "\n",
    "To tests for additional conditions inside an `if... else` block, the **`elif`** keyword (contraction of `else if`) is used:\n",
    "\n",
    "  ```python\n",
    "    if condition_1:\n",
    "        # This code block is executed if condition_1 evaluates to `True`.\n",
    "        ...\n",
    "    elif condition_2:\n",
    "        # This code block is executed if condition_2 evaluates to `True`,\n",
    "        # and all earlier conditions evalutated to `False`.\n",
    "        ...\n",
    "    else:\n",
    "        # This code block is executed if none of the earlier conditions evaluated to `True`.\n",
    "        ...\n",
    "  ```\n",
    "  <br>\n",
    "\n",
    "* **Important:** as soon as one of the conditions evaluates to `True`, all the remaining `elif` blocks\n",
    "  are skipped (i.e. their associated code block is not run, even if their condition would evaluate to\n",
    "  `True`. In fact, to save time, they are not even tested).\n"
   ]
  },
  {
   "cell_type": "code",
   "execution_count": null,
   "metadata": {},
   "outputs": [],
   "source": [
    "age =17\n",
    "\n",
    "if age< 18:\n",
    "    print(\"this is a child\")            # First statement.\n",
    "elif age>=13:\n",
    "    print(\"This is a teenager\")         # This statement is tested only if the previous one was False.\n",
    "else:\n",
    "    print(\"This is an adult\")           # The \"else\" block is run only if all previous one were False.\n"
   ]
  },
  {
   "cell_type": "markdown",
   "metadata": {},
   "source": [
    "> **Note**: the **order in which conditions are tested** can be importance when the conditions overlap.\n",
    ">\n",
    "> Consider the following re-ordering of the conditions we tested just before: what is wrong with this code?\n",
    ">\n",
    "> \n",
    "> ```python\n",
    "> if age >= 0:\n",
    ">     print(\"This is a child\")      \n",
    "> elif age >= 13:\n",
    ">     print(\"This is a teenager\")\n",
    "> elif age >= 18:\n",
    ">     print(\"This is an adult\")\n",
    "> else:\n",
    ">     print(\"Error: age cannot be negative\")\n",
    "> ```\n",
    "> "
   ]
  },
  {
   "cell_type": "markdown",
   "metadata": {},
   "source": [
    "<br>\n",
    "\n",
    "### Combining conditions using logical operators\n",
    "\n",
    "The conditions evaluated in `if` statements are often built using **comparison operators**, which you have seen in the previous lesson: \n",
    "    `==`,`>`,`<`,`>=`,`<=`,`!=`.\n",
    "\n",
    "These conditions can be combined using **logical operators** :\n",
    "* **`and`**: combines 2 statements and returns `True` if both are `True`.\n",
    "* **`or`** : combines 2 statements and returns `True` if at least one is `True`.\n",
    "* **`in`** : returns `True` if the element to its left is found inside the container to its right (**`not in`** can be used to check the reverse).\n",
    "* **`not`** : inverts a `True` to `False` and vice-versa.\n",
    "* **`is`**  : returns `True` if two variable reference the same object - but we have not talked about this yet... (**`is not`** can be used to check the reverse).\n"
   ]
  },
  {
   "cell_type": "markdown",
   "metadata": {},
   "source": [
    "<br>\n",
    "\n",
    "**Example:** combine conditions with logical **`and`** and **`or`**."
   ]
  },
  {
   "cell_type": "code",
   "execution_count": null,
   "metadata": {},
   "outputs": [],
   "source": [
    "a = 7\n",
    "b = 22\n",
    "\n",
    "if a > 0 and b < 10:\n",
    "    print(\"and is satisfied\")\n",
    "    \n",
    "if a > 0 or b <10:\n",
    "    print(\"or is satisfied\")"
   ]
  },
  {
   "cell_type": "markdown",
   "metadata": {},
   "source": [
    "<br>\n",
    "\n",
    "**Example:** invert a condition with **`not`**."
   ]
  },
  {
   "cell_type": "code",
   "execution_count": null,
   "metadata": {},
   "outputs": [],
   "source": [
    "condition = True\n",
    "\n",
    "if not condition:\n",
    "    print(\"the condition is false\")"
   ]
  },
  {
   "cell_type": "markdown",
   "metadata": {},
   "source": [
    "<br>\n",
    "\n",
    "**Example:** **`in`** and **`not in`**."
   ]
  },
  {
   "cell_type": "code",
   "execution_count": null,
   "metadata": {},
   "outputs": [],
   "source": [
    "a = 7\n",
    "\n",
    "l = [125,45,67,89,7]\n",
    "\n",
    "if a in l:\n",
    "    print(a,\"is in\",l)\n",
    "else:\n",
    "    print(a,\"is not in\",l)"
   ]
  },
  {
   "cell_type": "markdown",
   "metadata": {},
   "source": [
    "## Loops <a id='30'></a>\n",
    "\n",
    "**Loops** are very important code structures that allow to **repeatedly run a block of code** a certain number of times.  \n",
    "As in most programming languages, python has 2 types of loops:\n",
    "\n",
    "* **`for`** loops: repeats as many times as there are elements in a sequence of elements\n",
    "  (an **iterable**, in python lingo).\n",
    "* **`while`** loops: repeats as long as a defined condition evaluates to `True`.\n",
    "\n",
    "`for` loops are used when looping over pre-defined elements, and `while` loops when the number of times we need to repeat a loop is not known in advance.\n",
    "\n",
    "\n",
    "<br>\n",
    "\n",
    "### `for` loops <a id='31'></a>\n",
    "**`for` loops repeat as many times as there are elements in the given iterable** object (*i.e.* a container/sequence). Their structure is the following (note the indentation of the code, to indicate which lines are part of the loop):\n",
    "\n",
    "```python\n",
    "for x in iterable:\n",
    "    # do something...\n",
    "    # do more...\n",
    "    \n",
    "    # Repeat loop, each time updating the value of x to the next element in the iterable, \n",
    "    # until the end of the iterable is reached.\n",
    "```\n",
    "\n",
    "<br>\n",
    "\n",
    "Where `iterable` is an iterable (e.g. a `list`, `tuple` or `dict`), and `x` is the variable that will successively assume the values of the elements of the `iterable` during the loop's execution.\n",
    "\n",
    "* **Note:** you can use any variable name to represent the elements in the iterable\n",
    "  (here we use `x` you can use another name).\n",
    "* **Important:** don't forget the **`:`** at the end of the `for` loop line to indicate the start\n",
    "  of a code block.\n",
    "\n",
    "\n",
    "**Example:** iterate over a list and print each of its elements."
   ]
  },
  {
   "cell_type": "code",
   "execution_count": null,
   "metadata": {
    "scrolled": true
   },
   "outputs": [],
   "source": [
    "for a in l:\n",
    "    print(\"element is in the\",l)"
   ]
  },
  {
   "cell_type": "markdown",
   "metadata": {},
   "source": [
    "## `for` loop tricks <a id='50'></a>\n",
    "-----------------------\n",
    "\n",
    "### Using the `range()` function to loop over a range of integers <a id='51'></a>\n",
    "\n",
    "The **`range()`** function takes between 1 and 3 integer arguments `range(start, stop, step)`:\n",
    "* `start`: start value for the range of values. Optional argument, by default it is `0`.\n",
    "* `stop`: excluded end-value, the only non optional argument.\n",
    "* `step`: the increment. Optional argument, by default it is `1`.\n",
    "\n",
    "The `range()` function returns a **range object** that contains integers from `start` (included) to `stop` **(excluded)** in increments of `step`.\n",
    "\n",
    "**`range` objects are iterables**, and therefore the `range()` function is frequently used in combination with a `for` loop.  \n",
    "\n",
    "> To save memory, **range objects** generate their values as they are needed (in this way they are similar to python **generators**) -\n",
    "> they do not generate them all at once. You can consider range objects as functions that produce a finite series of values that can\n",
    "> be iterated over (this class of objects is called **iterators**).\n",
    "\n",
    "<br>\n",
    "\n",
    "**Example:** `range` objects can easily be converted to `lists` or `tuples`."
   ]
  },
  {
   "cell_type": "code",
   "execution_count": null,
   "metadata": {},
   "outputs": [],
   "source": [
    "for x in range(10):\n",
    "    print(\"hello\",x)"
   ]
  },
  {
   "cell_type": "code",
   "execution_count": null,
   "metadata": {},
   "outputs": [],
   "source": [
    "my_list = [1,47,89,59]\n",
    "\n",
    "list_length = len(my_list)\n",
    "for i in range(list_length):\n",
    "    print(\"index\",i,\":value\",my_list[i])"
   ]
  },
  {
   "cell_type": "markdown",
   "metadata": {},
   "source": [
    "<br>\n",
    "\n",
    "**Example:** iterate over a dictionary's keys. Note that by default **dictionaries iterate overs keys**, not values."
   ]
  },
  {
   "cell_type": "code",
   "execution_count": null,
   "metadata": {},
   "outputs": [],
   "source": [
    "my_dict = {\"a\":34, \"b\":45,\"c\":67}\n",
    "\n",
    "for key in my_dict:\n",
    "    print(\"key\",key, \"has value\",my_dict[key])"
   ]
  },
  {
   "cell_type": "markdown",
   "metadata": {},
   "source": [
    "### `while` loops <a id='32'></a>\n",
    "\n",
    "**`while`** followed by an expression defines a block that is **repeatedly executed for as long as the given expression evaluates to `True`**.\n",
    "\n",
    "```python\n",
    "while condition:\n",
    "    # eat...\n",
    "    # code...\n",
    "    # sleep...\n",
    "    \n",
    "    # repeat as long as condition is `True`.\n",
    "```\n",
    "**Example:** execute a loop while the value of `i` is smaller than 10."
   ]
  },
  {
   "cell_type": "code",
   "execution_count": null,
   "metadata": {},
   "outputs": [],
   "source": [
    "i = 0\n",
    "while i < 10:                 # While the counter is less than 10, continue.\n",
    "    print(\"counter: \",i)\n",
    "    i += 1                   # Increment the counter: DO NOT FORGET that line or the loop becomes infinite!"
   ]
  },
  {
   "cell_type": "markdown",
   "metadata": {},
   "source": [
    "<br>\n",
    "\n",
    "**Example:** loops can be used to populate a container object such as a list."
   ]
  },
  {
   "cell_type": "code",
   "execution_count": null,
   "metadata": {},
   "outputs": [],
   "source": [
    "square = []\n",
    "i = 0\n",
    "\n",
    "while i<10:               \n",
    "    square.append(i**2)\n",
    "    i += 1\n",
    "\n",
    "print(square)"
   ]
  },
  {
   "cell_type": "code",
   "execution_count": null,
   "metadata": {},
   "outputs": [],
   "source": [
    "seq = \"gtgcctgcactcgaatgcctgcactcga\"\n",
    "\n",
    "pattern= \"ctcg\"\n",
    "\n",
    "pos = seq.find(\"ctcg\")\n",
    "\n",
    "positions =[]\n",
    "\n",
    "# This loop will run as long as new matches are found...\n",
    "while pos!= -1:\n",
    "    positions.append(pos)\n",
    "    pos = seq.find(\"ctcg\", pos+1)\n",
    "    \n",
    "print(positions)"
   ]
  },
  {
   "cell_type": "markdown",
   "metadata": {},
   "source": [
    "If you forget to increment your counter (or whatever thing you test for in the while loop), then you will face an **infinite loop**.  \n",
    "Your only solution is then to interrupt the code execution: \n",
    "* Jupyter : click on the \"interrupt the kernel\" square button at the top of the window.\n",
    "* Linux or MacOS console : `Ctrl-C`.\n",
    "* Windows console : `Ctrl-Break` or `Ctrl-Alt-Esc`, then find your process and kill it.\n",
    "\n",
    "Infinite loops can get particularly nasty if you also allocate memory within the loop (as we are doing when we `append` values to a list), since your program will start hogging all the memory from your machine. The silver lining is that the operating system will eventually kill it (so it's no longer infinite), but in the mean time it may slow down - or even freeze - your computer for some time..."
   ]
  },
  {
   "cell_type": "code",
   "execution_count": null,
   "metadata": {},
   "outputs": [],
   "source": [
    "i = 0\n",
    "x = 5\n",
    "while i<10:\n",
    "    x +=1\n",
    "    print(\"infinite loop\")\n",
    "    \n",
    "# Note the \"*\" in the Jupyter cell execution counter, indicating the cell is still running.\n",
    "# Press on the \"interrupt the kernel\" square button at the top of the window."
   ]
  },
  {
   "cell_type": "markdown",
   "metadata": {},
   "source": [
    "## Loop control : `break` and `continue` <a id='60'></a>\n",
    "-------------------------------------------------\n",
    "\n",
    "These two keywords can help you control the flow of your loops:\n",
    "* **`break`**: exit the current loop block.\n",
    "* **`continue`**: skip the rest of the current iteration of the loop block to the beginning of the next iteration.\n",
    "\n",
    "<br>\n",
    "\n",
    "**Example:** illustration of the difference between `break` and `continue`."
   ]
  },
  {
   "cell_type": "code",
   "execution_count": null,
   "metadata": {},
   "outputs": [],
   "source": [
    "for x in range(1,11):\n",
    "    if x % 3== 0:       \n",
    "        break         # The loop will exit when x == 3.     \n",
    "    print(x)\n",
    "\n"
   ]
  },
  {
   "cell_type": "code",
   "execution_count": null,
   "metadata": {
    "scrolled": true
   },
   "outputs": [],
   "source": [
    "for x in range(1,11):\n",
    "    if x % 3 == 0:\n",
    "        continue       # The remainder of the loop is skipped when x is a multiple of 3.\n",
    "    print(x)"
   ]
  },
  {
   "cell_type": "markdown",
   "metadata": {},
   "source": [
    "> **Note:**  \n",
    "> In many cases, it can be argued that a `break` or a `continue` could be replaced by an `if ... else` structure or a different loop.  \n",
    "> Choose one option or the other depending on what seems to make sense to you and leads to clear, tidy and easy-to-understand code.\n",
    ">\n",
    "> For example, the small loop we saw earlier:\n",
    ">\n",
    ">  ```python\n",
    ">  for x in range(1, 11):\n",
    ">      if x % 3 == 0:\n",
    ">          continue\n",
    ">      print(x)\n",
    ">  ```\n",
    "> <br>\n",
    "> \n",
    "> Can also be written this without `continue`, and would arguably be a better solution in that case:\n",
    "> \n",
    ">  ```python\n",
    ">  for x in range(1, 11):\n",
    ">      if x % 3 != 0:\n",
    ">          print(x)\n",
    ">  ```\n",
    ">  <br>\n",
    ">\n",
    "> But if the loop contains a lot of code, then `continue` can be useful to make it more readable\n",
    "> and avoid having to indent the whole content of the loop by one additional level.\n",
    ">\n",
    "> * It is up to developers to write their code so that it **performs properly** but is also\n",
    ">   **as easy as possible to understand, maintain, and extend**."
   ]
  },
  {
   "cell_type": "markdown",
   "metadata": {},
   "source": [
    "## Writing your own functions <a id='80'></a>\n",
    "-------------------------------------\n",
    "\n",
    "In the first lesson we have already used a few of python's built-in functions: `help()`,`print()`,`len()`, ... , as well as some objects methods, which are functions as well.\n",
    "\n",
    "While it is recommended to use python's built-in functions when available (they will almost always be much faster than your own code), they obviously do not cover all the possible functionalities we might need. This is why it is really useful to be able to write our own functions!\n",
    "\n",
    "> Why and when to write functions:\n",
    "> * To **avoid code duplications:** having the same (or similar) lines of code repeating multiple times in your code is an indication\n",
    ">   this logic should be encapsulated in a function (DRY principle - Do not Repeat Yourself).\n",
    "> * To **organize code**: even if a function is used only once, organizing code in functions can help to structure your code, making\n",
    ">   it easier to read and manage.\n",
    "\n",
    "<br>\n",
    "\n",
    "In python, **functions are declared using the `def` keyword**, followed by the name of the function, brackets `()` where arguments can be specified, and finally a column `:` character.\n",
    "\n",
    "```python\n",
    "def function_name(argument_1, argument_2):\n",
    "    \"\"\"Documentation for the function - This is optional.\"\"\"\n",
    "    # Function code starts here...\n",
    "    # Each line must be indented (ideally with 4 spaces).\n",
    "    \n",
    "```\n",
    "\n",
    "<br>\n",
    "\n",
    "**Example:** Basic function that takes no arguments and simply prints something to the screen. "
   ]
  },
  {
   "cell_type": "code",
   "execution_count": null,
   "metadata": {},
   "outputs": [],
   "source": [
    "def greetings():\n",
    "    print(\"greetings, stranger\")\n",
    "    \n",
    "greetings()"
   ]
  },
  {
   "cell_type": "markdown",
   "metadata": {},
   "source": [
    "<br>\n",
    "\n",
    "### Function arguments <a id='81'></a>\n",
    "\n",
    "Our above `greetings()` function has no arguments - no variable is defined between the `()` in its declaration. While not  a problem *per se*, it limits the usefulness and flexibility of the function, since it will always do the exact same thing each time we call it.\n",
    "\n",
    "Here is a variation of this function, with a `name` **argument** added.\n",
    "* An **argument** is a value that is passed to a function, can be used in the function as a variable that can make its behavior change.\n",
    "* If there is more than 1 argument, **arguments are separated by commas `,`**."
   ]
  },
  {
   "cell_type": "code",
   "execution_count": null,
   "metadata": {
    "scrolled": true
   },
   "outputs": [],
   "source": [
    "\n",
    "def greetings(name):\n",
    "    print(\"greetings\", name)\n",
    "    \n",
    "greetings(\"Bob\")"
   ]
  },
  {
   "cell_type": "markdown",
   "metadata": {},
   "source": [
    "<br>\n",
    "\n",
    "Functions arguments can be either **positional** or **optional**:\n",
    "* **Positional arguments** are compulsory: the function cannot be called without them.\n",
    "* **Optional arguments** are - you guessed it - optional. They **have a default value** that is used\n",
    "  when the function is called without a value passed to the argument.\n",
    "\n",
    "When defining a function: \n",
    "* Optional arguments are created by assigning them a default value using the `=` operator.\n",
    "* Optional arguments must always be given **after positional arguments**.\n"
   ]
  },
  {
   "cell_type": "code",
   "execution_count": null,
   "metadata": {},
   "outputs": [],
   "source": [
    "def g_personal(name,day_of_week = \"Sunday\"):\n",
    "    print(\"greetings \"+ name+ \" Have a good \"+ day_of_week)\n",
    "    \n",
    "g_personal(\"Bob\",\"Monday\")"
   ]
  },
  {
   "cell_type": "markdown",
   "metadata": {},
   "source": [
    "<br>\n",
    "\n",
    "When calling a function:\n",
    "* Arguments are **separated by commas**: `test_function(arg_1, arg_2, arg_3)`.\n",
    "* **Positional arguments** must be passed **in the correct order** and **before** optional arguments.\n",
    "* When all arguments are passed by name, optional arguments can be passed before positional ones\n",
    "  (i.e. the order of arguments doesn't matter).\n",
    "\n",
    "**Examples:**\n",
    "\n",
    "* **OK** - order does not matter if all arguments are passed by name."
   ]
  },
  {
   "cell_type": "code",
   "execution_count": null,
   "metadata": {},
   "outputs": [],
   "source": [
    "g_personal(name=\"Bob\",day_of_week=\"Monday\")\n",
    "g_personal(day_of_week=\"Thursday\",name=\"Alice\")"
   ]
  },
  {
   "cell_type": "markdown",
   "metadata": {},
   "source": [
    "### Function return values <a id='83'></a>\n",
    "We might not have realized it from our examples so far, but all functions in python have a **return value**.\n",
    "\n",
    "A return value is what the code calling the function receives from it. It is specified in the function using the **`return` keyword**:\n",
    "* The **`return`** statement is what allows the code to get something from a function.\n",
    "* If no explicit return is made by the function, it returns **`None` by default**.\n",
    "* **Whenever a `return` statement is reached** during code execution, **the function exits**.\n",
    "* A function can have **multiple return statements**.\n",
    "* When writing a function with multiple return statements, it is best practice to **always return the \n",
    "  same type** of objects (e.g. always strings, always integers).\n",
    "  \n",
    "<br>\n",
    "  \n",
    "**Example:** function that **returns `None`**"
   ]
  },
  {
   "cell_type": "code",
   "execution_count": null,
   "metadata": {},
   "outputs": [],
   "source": [
    "def greetings(name):\n",
    "    print(\"greetings\", name)\n",
    "return_val = greetings(\"alice\")\n",
    "print(return_val)"
   ]
  },
  {
   "cell_type": "markdown",
   "metadata": {},
   "source": [
    "<br>\n",
    "\n",
    "**Example:** function that takes 2 arguments and returns their product:"
   ]
  },
  {
   "cell_type": "code",
   "execution_count": 2,
   "metadata": {},
   "outputs": [
    {
     "name": "stdout",
     "output_type": "stream",
     "text": [
      "0.3125\n"
     ]
    }
   ],
   "source": [
    "def nucleotide_freq(sequence,nucleotide):\n",
    "    \n",
    "    if len(sequence) == 0:\n",
    "        return 0\n",
    "    count = sequence.count(nucleotide)\n",
    "    frequency = count/ len(sequence)\n",
    "    return frequency\n",
    "\n",
    "dna_seq = \"ATGATTTGACTGGCAA\"\n",
    "nucleotide = \"A\"\n",
    "freq = nucleotide_freq(dna_seq, nucleotide)\n",
    "\n",
    "print(freq)"
   ]
  },
  {
   "cell_type": "markdown",
   "metadata": {},
   "source": [
    "### Summary: <a id='86'></a>\n",
    "\n",
    "The following are the crucial parts of a function:\n",
    "* Its **name**.\n",
    "* Its **arguments**: what it receives from the caller of the function. Arguments can be \n",
    "  **positional** or **optional**.\n",
    "* Its **return value**: what the caller gets from the function. It is specified in the function using the\n",
    "  `return` keyword. If no `return` is made by the function, it returns `None` by default.\n",
    "* The code inside the function. Must be indented.\n",
    "* While optional, it is good practice to provide a **docstring** to document your functions.\n",
    "\n",
    "```python\n",
    "def my_first_function(argument_1, argument_2 = 10):\n",
    "    \"\"\"Docstring: one or more lines of text that describe the function.\n",
    "    \n",
    "    The docstring content is documentation for people using your function.\n",
    "    It is displayed when running help() on your function.\n",
    "    \"\"\"\n",
    "       \n",
    "    # Do something with the input arguments...\n",
    "    result = argument_1 + argument_2\n",
    "    \n",
    "    # Return a value...\n",
    "    return result\n",
    "```\n",
    "\n",
    "<br>\n",
    "\n",
    "> **Note:** the function's name and argument list is often referred-to as the **signature** of the function.  \n",
    "> In our example above, the signature would be: `my_first_function(argument_1, argument_2 = 10)`"
   ]
  }
 ],
 "metadata": {
  "kernelspec": {
   "display_name": "Python 3 (ipykernel)",
   "language": "python",
   "name": "python3"
  },
  "language_info": {
   "codemirror_mode": {
    "name": "ipython",
    "version": 3
   },
   "file_extension": ".py",
   "mimetype": "text/x-python",
   "name": "python",
   "nbconvert_exporter": "python",
   "pygments_lexer": "ipython3",
   "version": "3.11.4"
  }
 },
 "nbformat": 4,
 "nbformat_minor": 4
}

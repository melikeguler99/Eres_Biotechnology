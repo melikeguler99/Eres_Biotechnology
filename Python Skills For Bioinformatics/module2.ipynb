{
 "cells": [
  {
   "cell_type": "markdown",
   "metadata": {},
   "source": [
    "<br>\n",
    "\n",
    "# Module 2 - Data Structures <a id='0'></a>\n",
    "--------------------------"
   ]
  },
  {
   "cell_type": "markdown",
   "metadata": {},
   "source": [
    "## Lists and tuples <a id='20'></a>\n",
    "\n",
    "Lists are **sequence type** objects that can contain any type of elements (other objects).\n",
    "* **Lists** are declared by surrounding a comma separated list of objects with **`[]`**.  \n",
    "  Example: `[\"This\", \"is\", \"a list\", \"with\", 6, \"items\"]`\n",
    "\n",
    "<br>\n",
    "\n",
    "#### Creating a list"
   ]
  },
  {
   "cell_type": "code",
   "execution_count": null,
   "metadata": {},
   "outputs": [],
   "source": [
    "my_list = [0,1,2,4,7,12,56]\n",
    "\n",
    "print(my_list)\n",
    "print(len(my_list))"
   ]
  },
  {
   "cell_type": "markdown",
   "metadata": {},
   "source": [
    "* List items can be of **heterogenous type**.\n",
    "* List **items can be of any type**: therefore it's possible to nest lists within other lists."
   ]
  },
  {
   "cell_type": "code",
   "execution_count": null,
   "metadata": {},
   "outputs": [],
   "source": [
    "list_a = [1,2,\"python\",\"r\",[2,\"linux\"]]\n",
    "print(list_a)\n",
    "print(len(list_a))"
   ]
  },
  {
   "cell_type": "markdown",
   "metadata": {},
   "source": [
    "<br>\n",
    "\n",
    "#### Creating lists from iterables (e.g. sequences such as lists, tuples, or a range)\n",
    "\n",
    "* Objects that are *iterables* can be converted to lists using the `list()` function."
   ]
  },
  {
   "cell_type": "code",
   "execution_count": null,
   "metadata": {},
   "outputs": [],
   "source": [
    "list_1 = list(range(21))\n",
    "print(list_1)"
   ]
  },
  {
   "cell_type": "markdown",
   "metadata": {},
   "source": [
    "> What are **`range`** objects?  \n",
    "> `range` objects are sequences of **integer numbers**, e.g. `0, 1, 2, 3, 4, ...`.\n",
    ">\n",
    "> By default, a call to `range(x)` creates a sequence of integers from `0` to `x`, `x` excluded.\n",
    ">\n",
    "> **Examples**:\n",
    "> * `range(10)`    -> `0, 1, 2, 3, 4, 5, 6, 7, 8, 9`\n",
    "> * `range(3, 7)` -> `3, 4, 5, 6`"
   ]
  },
  {
   "cell_type": "markdown",
   "metadata": {},
   "source": [
    "### Accessing values: list slicing <a id='21'></a>\n",
    "\n",
    "* Accessing an element (or a range of elements) in a list is done using the **`[]`** operator.\n",
    "* The **`[]` operator** works in much the same way than with strings, and allows\n",
    "  **accessing individual objects** from a list, or **slicing** it.\n",
    "\n",
    "* As with strings, remember that the **end position index is excluded** from the slicing."
   ]
  },
  {
   "cell_type": "code",
   "execution_count": null,
   "metadata": {},
   "outputs": [],
   "source": [
    "my_list = [1,2,\"python\",\"linux\",3.4,[2,\"biology\"]]\n",
    "\n",
    "print(my_list[0])      # Get the 1st item of the list.\n",
    "print(my_list[2:])     # Get all elements from index 2 (i.e. the 3rd element) to the end of the list."
   ]
  },
  {
   "cell_type": "markdown",
   "metadata": {},
   "source": [
    "<br>\n",
    "\n",
    "* If we try to access an index that does not exist in the list, an **`IndexError`** is raised.\n",
    "\n",
    "```py\n",
    "    my_list = [1, 2, \"spam\"]\n",
    "    my_list[3]\n",
    "\n",
    "    ---------------------------------------------------------------------------\n",
    "    IndexError                                Traceback (most recent call last)\n",
    "    Input In [26], in <module>\n",
    "          1 my_list = [1, 2, \"spam\"]\n",
    "    ----> 2 my_list[3]\n",
    "\n",
    "    IndexError: list index out of range\n",
    "```"
   ]
  },
  {
   "cell_type": "markdown",
   "metadata": {},
   "source": [
    "<br>\n",
    "\n",
    "[Back to ToC](#toc)\n",
    "\n",
    "### Tuples\n",
    "\n",
    "Tuples are very similar to lists in that they also are a **sequence type** objects that can contain any type of element (other objects).  \n",
    "* **Tuples** are declared using the syntax **`(value1, value2, ...)`**.\n",
    "* Values in **tuples** can be accessed and sliced in the same way as lists are.\n",
    "* The main difference between lists and tuples is that **the values in a tuple cannot be changed**\n",
    "  once the tuple has been created. This means that we cannot add/remove values from a tuple, nor can\n",
    "  we modify a value inside it."
   ]
  },
  {
   "cell_type": "markdown",
   "metadata": {},
   "source": [
    "#### Create a tuple\n",
    " * **Important:** if a tuple contains a single element, then the last (and only) element of the tuple must be\n",
    "   followed by a comma.\n",
    " * If the tuple contains multiple elements, then this final comma is not necessary (but allowed).\n",
    "     ```py\n",
    "     a_tuple = (value, )`   # Correct syntax.\n",
    "     a_tuple = (value)      # This will NOT create a tuple, but a regular value.\n",
    "     ```"
   ]
  },
  {
   "cell_type": "code",
   "execution_count": null,
   "metadata": {},
   "outputs": [],
   "source": [
    "tuple_1 = (\"python\",\"linux\")\n",
    "print(tuple_1)"
   ]
  },
  {
   "cell_type": "code",
   "execution_count": null,
   "metadata": {},
   "outputs": [],
   "source": [
    "tuple_2 = (\"python\",)\n",
    "print(tuple_2)\n",
    "print(len(tuple_2))\n",
    "print(type(tuple_2))"
   ]
  },
  {
   "cell_type": "code",
   "execution_count": null,
   "metadata": {},
   "outputs": [],
   "source": [
    "# Create a tuple from a list.\n",
    "list_1 = [\"a\",\"seq\",\"of\",\"string\"]\n",
    "tuple_a = tuple(list_1)\n",
    "\n",
    "print(tuple_a)"
   ]
  },
  {
   "cell_type": "markdown",
   "metadata": {},
   "source": [
    "<br>\n",
    "\n",
    "#### Creating empty tuples\n",
    "* Empty tuples can be created with `()` or `tuple()`.\n",
    "* Note that because tuples cannot be changed after they are created, it is not possible to add elements\n",
    "  to an empty tuple."
   ]
  },
  {
   "cell_type": "code",
   "execution_count": null,
   "metadata": {},
   "outputs": [],
   "source": [
    "tumple_b = ()\n",
    "tuple_b = tuple()\n",
    "\n",
    "print(tuple_b,type(tuple_b),len(tuple_b))"
   ]
  },
  {
   "cell_type": "markdown",
   "metadata": {},
   "source": [
    "<br>\n",
    "\n",
    "### When to use `list` or `tuple`? Mutability - an important difference between lists and tuples <a id='22'></a>\n",
    "\n",
    "* A `list` is **mutable**: it can be extended, reduced, and its elements can be changed.\n",
    "* A `tuple` is **immutable**: its length is fixed and its elements cannot be changed.\n",
    "\n",
    "<br>\n",
    "\n",
    "**Use tuples** when:\n",
    "  * You need to store a sequence of objects that will not change in your program (fixed length).\n",
    "  * You want to be sure that a sequence of objects will not be accidentally modified - a\n",
    "    sort of **write-protection**.\n",
    "  * Tuples are slightly more memory efficient than list.\n",
    "      ```py\n",
    "        import sys\n",
    "        print(sys.getsizeof((1, 2, 3, 4, 5)))  # -> 80 bytes\n",
    "        print(sys.getsizeof([1, 2, 3, 4, 5]))  # -> 96 bytes.\n",
    "      ```\n",
    "\n",
    "<br>\n",
    "\n",
    "**Use lists** when:\n",
    "  * You need to store a sequence of objects that will be modified over time.\n",
    "  * You need to have a sequence that can be grown (add elements) or shrunk (remove elements).\n",
    "\n",
    "<br>\n",
    "\n",
    "For more details about object mutability in python, see the **Additional Theory** section at the end of this notebook.\n",
    "\n",
    "<br>\n",
    "\n",
    "**Example:** because lists are mutable, we can modify an element in a list (or add/remove an element from a list)."
   ]
  },
  {
   "cell_type": "code",
   "execution_count": null,
   "metadata": {},
   "outputs": [],
   "source": [
    "my_l = [\"python\",\"r\",\"biology\"]\n",
    "\n",
    "my_l[2] = \"genetics\"\n",
    "\n",
    "print(my_l)"
   ]
  },
  {
   "cell_type": "code",
   "execution_count": null,
   "metadata": {},
   "outputs": [],
   "source": [
    "my_l = [1,2,5]\n",
    "\n",
    "my_l[2]= 4\n",
    "\n",
    "print(my_l)"
   ]
  },
  {
   "cell_type": "markdown",
   "metadata": {},
   "source": [
    "* Calling the `.append()` method of a list (here `my_list`) adds the specified element at the end of the list:"
   ]
  },
  {
   "cell_type": "code",
   "execution_count": null,
   "metadata": {},
   "outputs": [],
   "source": [
    "my_l.append(8)\n",
    "print(my_l)"
   ]
  },
  {
   "cell_type": "markdown",
   "metadata": {},
   "source": [
    "<br>\n",
    "\n",
    "* Trying to add a string to a list with **`.extend()`** can lead to unexpected results."
   ]
  },
  {
   "cell_type": "code",
   "execution_count": null,
   "metadata": {},
   "outputs": [],
   "source": [
    "my_l.extend(\"g\")\n",
    "print(my_l)"
   ]
  },
  {
   "cell_type": "code",
   "execution_count": null,
   "metadata": {},
   "outputs": [],
   "source": [
    "my_liste1 = [\"python\",\"r\",\"biology\"]\n",
    "\n",
    "my_liste1 += [\"genetics\",\"bioinformatics\"]\n",
    "\n",
    "print(my_liste1)\n",
    "print(len(my_liste1))"
   ]
  },
  {
   "cell_type": "markdown",
   "metadata": {
    "vscode": {
     "languageId": "python"
    }
   },
   "source": [
    "#### `insert()` method\n",
    "\n",
    "* Adding en element at a **specific position in the list** can be done with the **`insert()`** method.\n",
    "* In this example, we add an element in second position of `my_list`.\n",
    "* Remember that Python indices start with 0, so inserting before position 1 puts \n",
    "  the new object in second position in `my_list` (and not in the first)."
   ]
  },
  {
   "cell_type": "code",
   "execution_count": null,
   "metadata": {},
   "outputs": [],
   "source": [
    "my_liste1.insert(1,\"proteomics\")\n",
    "print(my_liste1)"
   ]
  },
  {
   "cell_type": "markdown",
   "metadata": {},
   "source": [
    "<br>\n",
    "\n",
    "### Deleting elements in a list\n",
    "\n",
    "* `list_object.pop(x)`: **deletes** the element at position `x` **and returns it**.\n",
    "  If no arguments are passed to `pop()`, the last element of the list is removed by default.\n",
    "* `del list_object[]`: **deletes** a single element or a slice.\n",
    "\n",
    "*Note:* using the `.pop()` method is generally considered to be more *pythonic* than using `del`.\n",
    "\n",
    "**Example:** deleting with `del`:"
   ]
  },
  {
   "cell_type": "code",
   "execution_count": null,
   "metadata": {},
   "outputs": [],
   "source": [
    "c_list = list(range(10))\n",
    "print(c_list)\n",
    "\n",
    "del c_list[-1]\n",
    "print(c_list)\n",
    "\n",
    "del c_list[0:4]\n",
    "print(c_list)"
   ]
  },
  {
   "cell_type": "markdown",
   "metadata": {},
   "source": [
    "<br>\n",
    "\n",
    "**Example:** deleting an item with the `pop()` method:"
   ]
  },
  {
   "cell_type": "code",
   "execution_count": null,
   "metadata": {},
   "outputs": [],
   "source": [
    "removed = c_list.pop(0)\n",
    "print(removed)"
   ]
  },
  {
   "cell_type": "markdown",
   "metadata": {},
   "source": [
    "As can be seen above, the default behavior is that **each letter of the string becomes an element in the list**.\n",
    "\n",
    "However, often we prefer to create a list that contains each word of the string. For this we use the **`split()`** method of string:\n",
    "* The `split()` method is very useful when reading formatted text files.\n",
    "* By default, it splits on white space (i.e. spaces, tabs, newlines).\n",
    "* It accepts an optional `sep` argument that allows separation of fields using the specified character (look up `help(str.split)` for details)."
   ]
  },
  {
   "cell_type": "code",
   "execution_count": null,
   "metadata": {},
   "outputs": [],
   "source": [
    "quote = \"bioinformatics is fun\"\n",
    "\n",
    "words = quote.split()\n",
    "print(words)"
   ]
  },
  {
   "cell_type": "markdown",
   "metadata": {},
   "source": [
    "<br>\n",
    "\n",
    "**To convert a list to a string**, the **`join()`** method can be used - it can be seen as the inverse of `split()`.  \n",
    "Somehow counter-intuitively, the `join()` method applies to strings, and takes a list as argument:"
   ]
  },
  {
   "cell_type": "code",
   "execution_count": null,
   "metadata": {},
   "outputs": [],
   "source": [
    "quote = \"\".join(words)\n",
    "print(quote)"
   ]
  },
  {
   "cell_type": "markdown",
   "metadata": {},
   "source": [
    "<br>\n",
    "\n",
    "**Tip**: lists can be concatenated with the `+` operator, extended with `+=` (addition assignment) and \"multiplied\" with `*`:"
   ]
  },
  {
   "cell_type": "code",
   "execution_count": null,
   "metadata": {},
   "outputs": [],
   "source": [
    "list_one =[\"hello\",12]\n",
    "list_two= list_one + [10.2,\"45\",\"python\"]\n",
    "\n",
    "print(list_two)\n",
    "\n",
    "list_one += [\"r\",\"linux\"]\n",
    "print(list_one)\n",
    " \n",
    "menu = [\"eggs\",\"lemon\"]*3\n",
    "print(menu)"
   ]
  },
  {
   "cell_type": "markdown",
   "metadata": {},
   "source": [
    "<br>\n",
    "<br>\n",
    "\n",
    "[Back to ToC](#toc)\n",
    "\n",
    "## Dictionaries <a id='26'></a>\n",
    "Dictionaries, or `dict`, are containers that associate a **key** to a **value**, just like a real world dictionary associates a word to its definition.\n",
    "* Dictionaries are instantiated with the `{key:value}` or `dict(key=value)` syntax.\n",
    "\n",
    "    ```python\n",
    "    color_code = {'blue': 23, 'green': 45, 'red': 8}\n",
    "    ```\n",
    "  \n",
    "* **Keys** must be unique in the dictionary, and must be an immutable object (typically a `str`).\n",
    "* **Values** can appear as many time as desired in the dictionary.\n",
    "* The `[]` operator is used to **select objects from the dictionary**, but **using their key** instead\n",
    "  of their index. E.g. `color_code[0]` is not a valid syntax (and will raise a **`KeyError`**), unless\n",
    "  there is a key value of `0` in the dict (which is not the case in our example).\n",
    "  \n",
    "    ```python\n",
    "    color_code['blue']   # returns 23\n",
    "    color_code['red']    # returns 8\n",
    "    ``` \n",
    "* Dictionaries are **mutable** objects: `key:value` pairs can be added and removed, values can be modified."
   ]
  },
  {
   "cell_type": "markdown",
   "metadata": {
    "vscode": {
     "languageId": "python"
    }
   },
   "source": [
    "**Examples:**\n",
    "\n",
    "* **Create a dictionary with values** in it."
   ]
  },
  {
   "cell_type": "code",
   "execution_count": null,
   "metadata": {},
   "outputs": [],
   "source": [
    "age ={\n",
    "    \"Maria\":23,\n",
    "    \"Victor\": 34\n",
    "}\n",
    "\n",
    "print(age)\n",
    "\n",
    "# Alternatively:\n",
    "\n",
    "student_age = dict(Maria=23,Victor=34)\n",
    "print(student_age)"
   ]
  },
  {
   "cell_type": "markdown",
   "metadata": {},
   "source": [
    "<br>\n",
    "\n",
    "* **Retrieve values** associated with keys."
   ]
  },
  {
   "cell_type": "code",
   "execution_count": null,
   "metadata": {},
   "outputs": [],
   "source": [
    "print(age[\"Maria\"])"
   ]
  },
  {
   "cell_type": "markdown",
   "metadata": {},
   "source": [
    "<br>\n",
    "\n",
    "* **Trying to access an element of the `dict` by index is not possible**. It raises a **`KeyError`**, because\n",
    "  python is trying to find the key `0` in the dictionary and it does not exist."
   ]
  },
  {
   "cell_type": "code",
   "execution_count": null,
   "metadata": {},
   "outputs": [],
   "source": [
    "age[23]"
   ]
  },
  {
   "cell_type": "markdown",
   "metadata": {},
   "source": [
    "* **Adding additional `key:value` pairs** to a dictionary, or modifying an existing key is as easy as:"
   ]
  },
  {
   "cell_type": "code",
   "execution_count": null,
   "metadata": {},
   "outputs": [],
   "source": [
    "age[\"Elenore\"] = 15\n",
    "print(age)"
   ]
  },
  {
   "cell_type": "markdown",
   "metadata": {},
   "source": [
    "<br>\n",
    "\n",
    "* **Modifying an existing key** of a dictionary."
   ]
  },
  {
   "cell_type": "code",
   "execution_count": null,
   "metadata": {},
   "outputs": [],
   "source": [
    "age[\"Elenore\"] += 1  # Shortcut for: student_age[\"Eleonore\"] = student_age[\"Eleonore\"] + 1\n",
    "print(age)"
   ]
  },
  {
   "cell_type": "markdown",
   "metadata": {
    "vscode": {
     "languageId": "python"
    }
   },
   "source": [
    "<br>\n",
    "\n",
    "* **Create an empty dictionary**, then **add values** to it.\n",
    "  * Empty dictionaries can be created with either **`{}`** or **`dict()`**.\n",
    "    Using `{}` is considered more *pythonic*.\n",
    "  * To **add a value to a `dict`**, we simply specify a new key value."
   ]
  },
  {
   "cell_type": "code",
   "execution_count": null,
   "metadata": {},
   "outputs": [],
   "source": [
    "student_age =dict()\n",
    "student_age = {}\n",
    "print(student_age)"
   ]
  },
  {
   "cell_type": "code",
   "execution_count": null,
   "metadata": {
    "scrolled": true
   },
   "outputs": [],
   "source": [
    "# Add new key:value pairs to the dict.\n",
    "student_age[\"Marco\"] =23\n",
    "student_age[\"Lisa\"]= 13"
   ]
  },
  {
   "cell_type": "markdown",
   "metadata": {},
   "source": [
    "<br>\n",
    "\n",
    "We are not restricted to a particular type for keys, nor for values. We can e.g. make a `dict` of lists or `dict` of `dict`.\n",
    "* In practice, it's best to use dictionaries for storing **homogenous values** (i.e. you probably don't want\n",
    "  to store unrelated things in different keys)."
   ]
  },
  {
   "cell_type": "code",
   "execution_count": null,
   "metadata": {},
   "outputs": [],
   "source": [
    "print(student_age)"
   ]
  }
 ],
 "metadata": {
  "kernelspec": {
   "display_name": "Python 3 (ipykernel)",
   "language": "python",
   "name": "python3"
  },
  "language_info": {
   "codemirror_mode": {
    "name": "ipython",
    "version": 3
   },
   "file_extension": ".py",
   "mimetype": "text/x-python",
   "name": "python",
   "nbconvert_exporter": "python",
   "pygments_lexer": "ipython3",
   "version": "3.11.4"
  }
 },
 "nbformat": 4,
 "nbformat_minor": 4
}
